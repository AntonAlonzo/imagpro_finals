{
 "cells": [
  {
   "cell_type": "markdown",
   "metadata": {},
   "source": [
    "# Test Pre-trained OpenImgaesV7 model for Plate Detection"
   ]
  },
  {
   "cell_type": "code",
   "execution_count": null,
   "metadata": {},
   "outputs": [],
   "source": [
    "# !pip install ultralytics # for jupyter session\n",
    "# %pip install ultralytics # for local"
   ]
  },
  {
   "cell_type": "code",
   "execution_count": 1,
   "metadata": {},
   "outputs": [],
   "source": [
    "# import YOLO package\n",
    "from ultralytics import YOLO\n",
    "import cv2 as cv"
   ]
  },
  {
   "cell_type": "code",
   "execution_count": 2,
   "metadata": {},
   "outputs": [],
   "source": [
    "MODEL_DIR = '../models/'\n",
    "pretrained_model = 'yolov8n-oiv7.pt'\n",
    "# import pre-trained model\n",
    "model = YOLO(MODEL_DIR + pretrained_model)"
   ]
  },
  {
   "cell_type": "code",
   "execution_count": 3,
   "metadata": {},
   "outputs": [
    {
     "name": "stdout",
     "output_type": "stream",
     "text": [
      "(534, 800)\n"
     ]
    }
   ],
   "source": [
    "#sample images directory\n",
    "SAMPLE_IMGS_DIR = '../input/samples/plate_detection/'\n",
    "# load image to perform inference on\n",
    "# sample_img = 'sample-plate_detection-l.png'\n",
    "sample_img = 'sample-plate_detection-h.jpg'\n",
    "# sample_img = 'jeepney.png'\n",
    "sample_img_sz = cv.imread(SAMPLE_IMGS_DIR + sample_img).shape[:2]\n",
    "print(sample_img_sz)"
   ]
  },
  {
   "cell_type": "code",
   "execution_count": null,
   "metadata": {},
   "outputs": [],
   "source": [
    "model.predict(SAMPLE_IMGS_DIR + sample_img, conf=0.2, imgsz=sample_img_sz, classes=[568], save=True)"
   ]
  }
 ],
 "metadata": {
  "kernelspec": {
   "display_name": "imagpro",
   "language": "python",
   "name": "python3"
  },
  "language_info": {
   "codemirror_mode": {
    "name": "ipython",
    "version": 3
   },
   "file_extension": ".py",
   "mimetype": "text/x-python",
   "name": "python",
   "nbconvert_exporter": "python",
   "pygments_lexer": "ipython3",
   "version": "3.10.13"
  }
 },
 "nbformat": 4,
 "nbformat_minor": 2
}
